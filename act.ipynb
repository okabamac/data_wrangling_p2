{
 "cells": [
  {
   "cell_type": "code",
   "execution_count": 1,
   "metadata": {},
   "outputs": [],
   "source": [
    "import pandas as pd\n",
    "import numpy as np \n",
    "import matplotlib.pyplot as plt\n",
    "import seaborn as sns\n",
    "import os\n",
    "import requests\n",
    "import tweepy\n",
    "from io import StringIO"
   ]
  },
  {
   "cell_type": "code",
   "execution_count": 2,
   "metadata": {},
   "outputs": [],
   "source": [
    "twitter_data = pd.read_csv('twitter-archive-enhanced.csv') # read in the data"
   ]
  },
  {
   "cell_type": "code",
   "execution_count": 3,
   "metadata": {},
   "outputs": [],
   "source": [
    "url = 'https://d17h27t6h515a5.cloudfront.net/topher/2017/August/599fd2ad_image-predictions/image-predictions.tsv'\n",
    "response = requests.get(url)\n",
    "data = response.text\n",
    "image_pred = pd.read_csv(StringIO(data), sep='\\t')\n",
    "image_pred.to_csv('image_predictions.tsv')"
   ]
  },
  {
   "cell_type": "code",
   "execution_count": 4,
   "metadata": {},
   "outputs": [],
   "source": [
    "from dotenv import load_dotenv\n",
    "load_dotenv()\n",
    "\n",
    "consumer_key = os.environ.get('CONSUMER_KEY')\n",
    "consumer_secret = os.environ.get('CONSUMER_SECRET')\n",
    "access_token = os.environ.get('ACCESS_TOKEN')\n",
    "access_token_secret = os.environ.get('ACCESS_TOKEN_SECRET')\n",
    "\n",
    "tweet_id = list(twitter_data['tweet_id'])\n"
   ]
  },
  {
   "cell_type": "code",
   "execution_count": 5,
   "metadata": {},
   "outputs": [],
   "source": [
    "# auth = tweepy.OAuthHandler(consumer_key, consumer_secret)\n",
    "# auth.set_access_token(access_token, access_token_secret)\n",
    "\n",
    "# api = tweepy.API(auth)\n",
    "\n",
    "# tweet_id = list(twitter_data['tweet_id'])\n",
    "\n",
    "# tweets = api.statuses_lookup(tweet_id) # id_list is the list of tweet ids\n",
    "# tweet_txt = []\n",
    "# for i in tweets:\n",
    "#     tweet_txt.append(i.text)\n",
    "\n",
    "\n",
    "# Each tweet's JSON data should be written to its own line. \n",
    "# Then read this .txt file line by line into a pandas DataFrame \n",
    "# with (at minimum) tweet ID, retweet count, and favorite count"
   ]
  },
  {
   "cell_type": "code",
   "execution_count": 6,
   "metadata": {},
   "outputs": [],
   "source": [
    "if not os.path.exists('tweet_json.txt'):\n",
    "    with open('tweet_json.txt', 'w'): pass\n",
    "\n",
    "\n",
    "\n",
    "# Function to extract tweets\n",
    "def get_tweets():\n",
    "          \n",
    "        # Authorization to consumer key and consumer secret\n",
    "        auth = tweepy.OAuthHandler(consumer_key, consumer_secret)\n",
    "  \n",
    "        # Access to user's access key and access secret\n",
    "        auth.set_access_token(access_token, access_token_secret)\n",
    "  \n",
    "        # Calling api\n",
    "        api = tweepy.API(auth)\n",
    "  \n",
    "        # create array of tweet information: username, \n",
    "        # tweet id, date/time, text\n",
    "        # tweets_for_csv = [tweet.text for tweet in tweets] # CSV file created \n",
    "        \n",
    "        for id in tweet_id:\n",
    "            try:\n",
    "                tweets = api.get_status(id)\n",
    "                tweet_txt = tweets.text\n",
    "                with open('tweet_json.txt', 'a') as f:\n",
    "                    f.write(tweet_txt)\n",
    "                    f.write('\\n')\n",
    "            except tweepy.TweepError as e:\n",
    "                print(e.reason)\n",
    "                continue\n",
    "\n",
    "# Driver code\n",
    "if __name__ == '__main__':\n",
    "#   Call the function\n",
    "    get_tweets()"
   ]
  },
  {
   "cell_type": "code",
   "execution_count": null,
   "metadata": {},
   "outputs": [],
   "source": []
  }
 ],
 "metadata": {
  "interpreter": {
   "hash": "31ef0edd3b74fb2121c96189095ae505ae1528924a5c4d6875e468a1c57258a1"
  },
  "kernelspec": {
   "display_name": "Python 3.8.5 ('base')",
   "language": "python",
   "name": "python3"
  },
  "language_info": {
   "codemirror_mode": {
    "name": "ipython",
    "version": 3
   },
   "file_extension": ".py",
   "mimetype": "text/x-python",
   "name": "python",
   "nbconvert_exporter": "python",
   "pygments_lexer": "ipython3",
   "version": "3.8.5"
  },
  "orig_nbformat": 4
 },
 "nbformat": 4,
 "nbformat_minor": 2
}
